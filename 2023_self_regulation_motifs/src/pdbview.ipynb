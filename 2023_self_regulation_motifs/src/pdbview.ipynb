{
 "cells": [
  {
   "cell_type": "code",
   "execution_count": 1,
   "id": "d171728f",
   "metadata": {},
   "outputs": [
    {
     "name": "stdout",
     "output_type": "stream",
     "text": [
      "4\n"
     ]
    }
   ],
   "source": [
    "## Random color names\n",
    "import random\n",
    "import webcolors\n",
    "from IPython.display import HTML\n",
    "CSS_COLOR_NAMES = list(webcolors.CSS3_NAMES_TO_HEX.keys())\n",
    "\n",
    "def generate_random_colors(size):\n",
    "    colors = []\n",
    "    generated_colors = set()\n",
    "    while len(colors) < size:\n",
    "        color = random.choice(CSS_COLOR_NAMES)\n",
    "        if color in generated_colors:\n",
    "            continue\n",
    "        hex = webcolors.CSS3_NAMES_TO_HEX[color]\n",
    "        rgb = webcolors.hex_to_rgb(hex)\n",
    "        if sum(rgb) > 500: # check if the color is too close to white\n",
    "            continue\n",
    "        colors.append(color)\n",
    "        generated_colors.add(color)\n",
    "    return colors\n",
    "\n",
    "print('4')"
   ]
  },
  {
   "cell_type": "code",
   "execution_count": 2,
   "id": "a9c8017d",
   "metadata": {
    "scrolled": false,
    "tags": []
   },
   "outputs": [
    {
     "data": {
      "application/vnd.jupyter.widget-view+json": {
       "model_id": "ebef7ad27ef2496fbe5cd70f23262ad7",
       "version_major": 2,
       "version_minor": 0
      },
      "text/plain": []
     },
     "metadata": {},
     "output_type": "display_data"
    },
    {
     "data": {
      "application/vnd.jupyter.widget-view+json": {
       "model_id": "878b6e6cc36949a4868766e45495e430",
       "version_major": 2,
       "version_minor": 0
      },
      "text/plain": [
       "VBox(children=(Dropdown(description='Color scheme', options=('PF13561.9', 'PF00106.28'), value='PF13561.9'), N…"
      ]
     },
     "metadata": {},
     "output_type": "display_data"
    }
   ],
   "source": [
    "import nglview\n",
    "import csv\n",
    "import ipywidgets as widgets\n",
    "\n",
    "species = 'SwissProt'\n",
    "table = open('../'+species+'/'+species+'_results.csv', 'r')\n",
    "reader = csv.DictReader(table)\n",
    "\n",
    "pdb = \"AF-A0A023I4C8-F1-model_v4\"\n",
    "path = \"/home/roger/2023_self_regulatory_motifs/\"+species+\"/data/\"+pdb+\".pdb\"\n",
    "view = nglview.show_file(path)\n",
    "\n",
    "color_dict = {}\n",
    "for row in reader:\n",
    "    newpdb = row['PDB']\n",
    "    if newpdb != pdb:\n",
    "        continue\n",
    "    if row['Domain'] not in color_dict.keys():\n",
    "        color_dict[row['Domain']] = []\n",
    "    \n",
    "    domainPos = row['Domain N-term']+'-'+row['Domain C-term']\n",
    "    dom_color = ['', domainPos]\n",
    "    color_dict[row['Domain']].append(dom_color)\n",
    "    \n",
    "    motifPos = row['Motif N-term']+'-'+row['Motif C-term']\n",
    "    motif_color = ['', motifPos]\n",
    "    color_dict[row['Domain']].append(motif_color)\n",
    "\n",
    "for k in color_dict.keys():\n",
    "    colors = generate_random_colors(len(color_dict[k]))\n",
    "    for i in range(len(color_dict[k])):\n",
    "        color_dict[k][i][0] = colors[i]\n",
    "\n",
    "# Define a function to change the color scheme\n",
    "def change_color_scheme(scheme_name):\n",
    "    colors = color_dict[scheme_name]\n",
    "    color_scheme = nglview.color._ColorScheme(\n",
    "            colors,\n",
    "            scheme_name\n",
    "        )\n",
    "    view.clear()\n",
    "    view.add_cartoon(color=color_scheme)\n",
    "\n",
    "# Create a dropdown widget with the color scheme names\n",
    "scheme_names = list(color_dict.keys())\n",
    "dropdown = widgets.Dropdown(options=scheme_names, description='Color scheme')\n",
    "\n",
    "# Call the `change_color_scheme` function when the dropdown value changes\n",
    "dropdown.observe(lambda change: change_color_scheme(change['new']), names='value')\n",
    "\n",
    "# Display the dropdown widget and the NGL widget\n",
    "vbox = widgets.VBox([dropdown, view])\n",
    "vbox"
   ]
  },
  {
   "cell_type": "code",
   "execution_count": 12,
   "id": "6205032d",
   "metadata": {},
   "outputs": [
    {
     "name": "stdout",
     "output_type": "stream",
     "text": [
      "['__annotations__', '__class__', '__del__', '__delattr__', '__dict__', '__dir__', '__doc__', '__eq__', '__format__', '__ge__', '__getattribute__', '__getitem__', '__getstate__', '__gt__', '__hash__', '__init__', '__init_subclass__', '__iter__', '__le__', '__lt__', '__module__', '__ne__', '__new__', '__reduce__', '__reduce_ex__', '__repr__', '__setattr__', '__setstate__', '__sizeof__', '__str__', '__subclasshook__', '__weakref__', '_add_notifiers', '_add_shape', '_all_trait_default_generators', '_call_widget_constructed', '_camera_orientation', '_camera_str', '_clear_component_auto_completion', '_comm_changed', '_compare', '_control_comm', '_coordinates_dict', '_create_ibtn_fullscreen', '_create_player', '_cross_validation_lock', '_default_keys', '_descriptors', '_display_callbacks', '_display_image', '_display_repr', '_dom_classes', '_dry_run', '_event', '_execute_js_code', '_fire_callbacks', '_gen_repr_from_keys', '_get_embed_state', '_get_full_params', '_get_remote_call_msg', '_get_trait_default_generator', '_get_traj_by_id', '_gui', '_gui_theme', '_handle_control_comm_msg', '_handle_custom_msg', '_handle_displayed', '_handle_msg', '_handle_msg_thread', '_handle_n_components_changed', '_handle_repr_dict_changed', '_holding_sync', '_ibtn_fullscreen', '_igui', '_image_array', '_image_data', '_init_gui', '_instance_inits', '_iplayer', '_ipython_display_', '_is_numpy', '_js', '_js_console', '_load_data', '_lock_property', '_log_default', '_model_id', '_model_module', '_model_module_version', '_model_name', '_msg_callbacks', '_ngl_color_dict', '_ngl_component_ids', '_ngl_component_names', '_ngl_coordinate_resource', '_ngl_displayed_callbacks_before_loaded', '_ngl_full_stage_parameters', '_ngl_handle_msg', '_ngl_msg', '_ngl_msg_archive', '_ngl_original_stage_parameters', '_ngl_repr_dict', '_ngl_serialize', '_ngl_version', '_ngl_view_id', '_notify_observers', '_notify_trait', '_on_frame_changed', '_on_picked', '_on_render_image', '_on_theme_changed', '_parameters', '_player_dict', '_property_lock', '_register_validator', '_remote_call', '_remote_call_thread', '_remove_notifiers', '_remove_representation', '_remove_representations_by_name', '_repr_keys', '_representations', '_request_repr_parameters', '_request_stage_parameters', '_run_on_another_thread', '_scene_position', '_scene_rotation', '_send', '_send_binary', '_set_camera_orientation', '_set_coordinates', '_set_selection', '_set_serialization', '_set_size', '_set_spin', '_set_sync_camera', '_set_sync_repr', '_set_unsync_camera', '_set_unsync_repr', '_should_send_property', '_states_to_send', '_static_immutable_initial_values', '_sync_with_layout', '_synced_model_ids', '_synced_repr_model_ids', '_theme', '_trait_default_generators', '_trait_from_json', '_trait_notifiers', '_trait_to_json', '_trait_validators', '_trait_values', '_traits', '_trajlist', '_trim_message', '_unset_serialization', '_update_background_color', '_update_component_auto_completion', '_update_max_frame', '_update_repr_dict', '_update_representations_by_name', '_validate_gui_style', '_view_count', '_view_height', '_view_module', '_view_module_version', '_view_name', '_view_width', '_wait_until_finished', '_widget_construction_callback', '_widget_image', '_widget_theme', 'add_axes', 'add_backbone', 'add_ball_and_stick', 'add_cartoon', 'add_class', 'add_component', 'add_contact', 'add_distance', 'add_helixorient', 'add_hyperball', 'add_label', 'add_licorice', 'add_line', 'add_pdbid', 'add_point', 'add_principal_axes', 'add_representation', 'add_ribbon', 'add_rocket', 'add_rope', 'add_simplified_base', 'add_slice', 'add_spacefill', 'add_structure', 'add_surface', 'add_trace', 'add_traits', 'add_trajectory', 'add_tube', 'add_unitcell', 'background', 'camera', 'center', 'center_view', 'class_own_trait_events', 'class_own_traits', 'class_trait_names', 'class_traits', 'clear', 'clear_representations', 'close', 'close_all', 'color_by', 'comm', 'component_0', 'control', 'cross_validation_lock', 'display', 'download_image', 'frame', 'get_manager_state', 'get_state', 'get_view_spec', 'gui_style', 'handle_comm_opened', 'handle_control_comm_opened', 'handle_resize', 'has_trait', 'hide', 'hold_sync', 'hold_trait_notifications', 'keys', 'layout', 'loaded', 'log', 'max_frame', 'model_id', 'n_components', 'notify_change', 'observe', 'on_displayed', 'on_loaded', 'on_msg', 'on_trait_change', 'on_widget_constructed', 'open', 'parameters', 'picked', 'player', 'remove_axes', 'remove_backbone', 'remove_ball_and_stick', 'remove_cartoon', 'remove_class', 'remove_component', 'remove_contact', 'remove_distance', 'remove_helixorient', 'remove_hyperball', 'remove_label', 'remove_licorice', 'remove_line', 'remove_point', 'remove_principal_axes', 'remove_ribbon', 'remove_rocket', 'remove_rope', 'remove_simplified_base', 'remove_slice', 'remove_spacefill', 'remove_surface', 'remove_trace', 'remove_tube', 'remove_unitcell', 'render_image', 'representations', 'send', 'send_state', 'set_coordinates', 'set_representations', 'set_state', 'set_trait', 'setup_instance', 'shape', 'show', 'show_only', 'stage', 'trait_defaults', 'trait_events', 'trait_has_value', 'trait_metadata', 'trait_names', 'trait_values', 'traits', 'unobserve', 'unobserve_all', 'update_axes', 'update_backbone', 'update_ball_and_stick', 'update_cartoon', 'update_contact', 'update_distance', 'update_helixorient', 'update_hyperball', 'update_label', 'update_licorice', 'update_line', 'update_point', 'update_principal_axes', 'update_representation', 'update_ribbon', 'update_rocket', 'update_rope', 'update_simplified_base', 'update_slice', 'update_spacefill', 'update_surface', 'update_trace', 'update_tube', 'update_unitcell', 'widget_types', 'widgets']\n"
     ]
    }
   ],
   "source": [
    "print( dir(view) )\n",
    "widgets.embed.embed_minimal_html('__widget.html', views=[vbox])\n",
    "## Saving the html\n",
    "# create the HTML string representation of the VBox object\n",
    "#html_string = HTML(vbox)._repr_html_()\n",
    "\n",
    "# write the HTML string to a file\n",
    "#with open(\"mywidget.html\", \"w\") as f:\n",
    "#    f.write(html_string)"
   ]
  }
 ],
 "metadata": {
  "kernelspec": {
   "display_name": "Python 3 (ipykernel)",
   "language": "python",
   "name": "python3"
  },
  "language_info": {
   "codemirror_mode": {
    "name": "ipython",
    "version": 3
   },
   "file_extension": ".py",
   "mimetype": "text/x-python",
   "name": "python",
   "nbconvert_exporter": "python",
   "pygments_lexer": "ipython3",
   "version": "3.10.6"
  },
  "vscode": {
   "interpreter": {
    "hash": "1f0c4aba431e30a22bb8bc06580edfe8dbd3576238def4d3b6ab444b2b866a93"
   }
  }
 },
 "nbformat": 4,
 "nbformat_minor": 5
}
